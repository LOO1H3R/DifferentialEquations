{
 "cells": [
  {
   "cell_type": "markdown",
   "metadata": {},
   "source": [
    "2. Suppose water is leaking from a tank through a circular hole of area $A_{h}$ at its bottom. When water leaks through a hole, friction and contraction of the stream near the hole reduce the volume of the water leaving the tank per second to $cA_{h}\\sqrt{2gh}$ where c (0 < c < 1) is an empirical constant. Determine a differential equation (in ft/s) for the height h of water at time t for the cubical tank in the figure below. The radius of the hole is 7 in., and $g = 32 ft/s^{2}$"
   ]
  },
  {
   "cell_type": "code",
   "execution_count": 81,
   "metadata": {},
   "outputs": [
    {
     "data": {
      "text/latex": [
       "$\\displaystyle A_{w} \\frac{d}{d t} h$"
      ],
      "text/plain": [
       "A_w*Derivative(h, t)"
      ]
     },
     "metadata": {},
     "output_type": "display_data"
    },
    {
     "data": {
      "text/latex": [
       "$\\displaystyle \\frac{\\frac{\\partial}{\\partial t} A_{w} h}{A_{w}}$"
      ],
      "text/plain": [
       "Derivative(A_w*h, t)/A_w"
      ]
     },
     "metadata": {},
     "output_type": "display_data"
    },
    {
     "data": {
      "text/latex": [
       "$\\displaystyle A_{w} \\frac{d}{d t} h$"
      ],
      "text/plain": [
       "A_w*Derivative(h, t)"
      ]
     },
     "metadata": {},
     "output_type": "display_data"
    },
    {
     "data": {
      "text/latex": [
       "$\\displaystyle - 0.0272222222222222 \\pi c \\sqrt{h}$"
      ],
      "text/plain": [
       "-0.0272222222222222*pi*c*sqrt(h)"
      ]
     },
     "metadata": {},
     "output_type": "display_data"
    }
   ],
   "source": [
    "import sympy as sp\n",
    "import fractions\n",
    "\n",
    "import numpy as np\n",
    "import matplotlib.pyplot as plt\n",
    "\n",
    "# Define the symbols\n",
    "t, c, A_h,A_w, g, h = sp.symbols('t c A_h A_w g h')\n",
    "\n",
    "# Define the radius of the hole\n",
    "r = 7\n",
    "\n",
    "# Define the volume\n",
    "V = A_w * h\n",
    "\n",
    "# Define the rate of change of volume\n",
    "dVdt = A_w * sp.Derivative(h, t)\n",
    "display(dVdt)\n",
    "\n",
    "# Define the rate of change of height\n",
    "dhdt = 1/A_w * sp.Derivative(V, t)\n",
    "display(dhdt)\n",
    "\n",
    "# Define the function for the rate of change of volume\n",
    "V_function = c * A_h * sp.sqrt(2*g*h)\n",
    "display(dVdt)\n",
    "\n",
    "# Define g value\n",
    "g = 32\n",
    "\n",
    "# Define the value of A_w\n",
    "A_w = 10*10\n",
    "\n",
    "# Define the value of A_h with r = 2 inches converted to feet\n",
    "A_h = sp.pi * (r/12)**2\n",
    "\n",
    "\n",
    "# Evaluate the rate of change of height\n",
    "dhdt = ( -c * A_h * sp.sqrt(2*g*h))/A_w\n",
    "display(dhdt)\n",
    "\n",
    "\n",
    "#\n"
   ]
  }
 ],
 "metadata": {
  "kernelspec": {
   "display_name": "Python 3",
   "language": "python",
   "name": "python3"
  },
  "language_info": {
   "codemirror_mode": {
    "name": "ipython",
    "version": 3
   },
   "file_extension": ".py",
   "mimetype": "text/x-python",
   "name": "python",
   "nbconvert_exporter": "python",
   "pygments_lexer": "ipython3",
   "version": "3.12.3"
  }
 },
 "nbformat": 4,
 "nbformat_minor": 2
}
